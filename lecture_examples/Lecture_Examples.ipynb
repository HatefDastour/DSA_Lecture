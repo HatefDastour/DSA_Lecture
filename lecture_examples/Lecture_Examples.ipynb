{
 "cells": [
  {
   "cell_type": "markdown",
   "metadata": {},
   "source": [
    "# 1. Weather Data Example\n",
    "\n",
    "This dataset contains daily temperature records for Columbia, Missouri, spanning from October 1 to October 10, 2024. The temperatures are presented in both standard and metric units. The data was collected by the [University of Missouri weather station](https://www.ncei.noaa.gov/cdo-web/datasets/GHCND/stations/GHCND:USC00231801/detail) and sourced from the National Centers for Environmental Information (NCEI), a division of NOAA. You can access the original data source here: [NCEI Climate Data](https://www.ncei.noaa.gov/cdo-web/).\n",
    "\n",
    "<center>\n",
    "<img src=\"https://raw.githubusercontent.com/HatefDastour/DSA_Lecture/refs/heads/main/images/weather_station_figure.jpg\" alt=\"University of Missouri Weather Station\" width=\"500\">\n",
    "</center>\n",
    "\n",
    "**Dataset Details:** Each file includes daily minimum and maximum temperature readings, with some files containing intentional missing values (NaNs) for exercises in data cleaning and imputation.\n",
    "\n",
    "- **Metric Units** ([data_10day_metric_missing.csv](https://raw.githubusercontent.com/HatefDastour/DSA_Lecture/refs/heads/main/data_files/data_10day_metric_missing.csv)):  \n",
    "  - **TMIN**: Minimum Daily Temperature (°C)  \n",
    "  - **TMAX**: Maximum Daily Temperature (°C)  \n",
    "\n",
    "- **Standard Units** ([data_10day_standard_missing.csv](https://raw.githubusercontent.com/HatefDastour/DSA_Lecture/refs/heads/main/data_files/data_10day_standard_missing.csv)):  \n",
    "  - **TMIN**: Minimum Daily Temperature (°F)  \n",
    "  - **TMAX**: Maximum Daily Temperature (°F)  \n",
    "\n",
    "**Note**: This dataset is intended for **educational use only**. Although based on historical data, it has been modified for training purposes to illustrate techniques for handling missing data in Python and may not be suitable for operational weather analysis or forecasting."
   ]
  },
  {
   "cell_type": "markdown",
   "metadata": {},
   "source": [
    "## 1.1 Reading Data\n",
    "\n",
    "<font color='Green'><b>Example:</b></font> This example demonstrates how to load climate data from a CSV file into a pandas DataFrame. We set the unit system (either 'standard' for Fahrenheit or 'metric' for Celsius), construct the URL for the CSV file with missing values, and read the data into a DataFrame. The index is then converted to datetime format for time series analysis, and the DataFrame is displayed to verify successful loading.\n",
    "\n",
    "<div class=\"alert alert-block alert-warning\">\n",
    "Pandas can read data from various file formats such as CSV, Excel, SQL databases, and more. The most commonly used method is <a href=\"https://pandas.pydata.org/docs/reference/api/pandas.read_csv.html\" target=\"_blank\">`pandas.read_csv()`</a> for reading CSV files.\n",
    "</div>"
   ]
  },
  {
   "cell_type": "code",
   "execution_count": null,
   "metadata": {},
   "outputs": [],
   "source": [
    "# Import pandas for data manipulation\n",
    "import pandas as pd\n",
    "\n",
    "# Set unit system: 'standard' (Fahrenheit, inches) or 'metric' (Celsius, mm)\n",
    "unit_system = 'standard'\n",
    "# unit_system = 'metric'  # Uncomment to switch to metric\n",
    "\n",
    "# URL of the CSV file with climate data (includes missing values)\n",
    "link = f'https://raw.githubusercontent.com/HatefDastour/DSA_Lecture/refs/heads/main/data_files/data_10day_{unit_system}_missing.csv'\n",
    "\n",
    "# Load the CSV file into a DataFrame, using the first column as the index\n",
    "climate_data = pd.read_csv(link, index_col=0)\n",
    "\n",
    "# Convert the index to datetime format for time series analysis\n",
    "climate_data.index = pd.to_datetime(climate_data.index)\n",
    "\n",
    "# Display the DataFrame to check data loading\n",
    "display(climate_data)"
   ]
  },
  {
   "cell_type": "markdown",
   "metadata": {
    "id": "h3X1RRvQj5vi"
   },
   "source": [
    "## 1.2 Identifying Missing Data\n",
    "\n",
    "\n",
    "<font color='Green'><b>Example:</b></font> This example demonstrates how to identify missing values in the `climate_data` DataFrame. The `isnull()` (or `isna()`) method is used to create a boolean DataFrame, where `True` indicates the presence of a missing value. The resulting DataFrame is displayed to visualize the locations of missing data.\n",
    "\n",
    "\n",
    "<div class=\"alert alert-block alert-warning\">\n",
    "In Pandas, the <a href=\"https://pandas.pydata.org/docs/reference/api/pandas.DataFrame.isna.html\" target=\"_blank\">`pandas.DataFrame.isna()`</a> and <a href=\"https://pandas.pydata.org/docs/reference/api/pandas.DataFrame.isnull.html#pandas.DataFrame.isnull\" target=\"_blank\">`pandas.DataFrame.isnull()`</a> methods are used to check for missing values in a DataFrame or Series. These methods are functionally identical and can be used interchangeably. Both return a mask where `True` marks a missing value, and `False` marks a non-missing value.\n",
    "</div>"
   ]
  },
  {
   "cell_type": "code",
   "execution_count": null,
   "metadata": {
    "id": "T7YgE0QekAKs"
   },
   "outputs": [],
   "source": [
    "# Identify missing values in the DataFrame\n",
    "# missing_values = --- Code Here ---\n",
    "\n",
    "# Display the boolean DataFrame showing missing values\n",
    "# display(missing_values)"
   ]
  },
  {
   "cell_type": "markdown",
   "metadata": {
    "id": "dgQa0d-rkBqB"
   },
   "source": [
    "The following image shows two tables comparing temperature data for a series of dates in October 2024:\n",
    "\n",
    "- **Left Table**: Contains the minimum (TMIN) and maximum (TMAX) temperatures for each date, with some values marked as \"NaN\" (Not a Number), indicating missing data. This represents the original data.\n",
    "- **Right Table**: A corresponding boolean table where \"True\" indicates the presence of \"NaN\" in the left table for the respective date and temperature type, and \"False\" indicates the absence of \"NaN\". This represents the output of applying `isna()` or `isnull()` to the DataFrame, where each \"True\" value corresponds to a \"NaN\" in the original data.\n",
    "\n",
    "<center>\n",
    "<img src=\"https://raw.githubusercontent.com/HatefDastour/DSA_Lecture/f58baee17355cef9aaec59c85257e9b27b903b6a/images/figure_example_isnull.jpg\" alt=\"Temperature Data Comparison\" width=\"650\">\n",
    "</center>"
   ]
  },
  {
   "cell_type": "code",
   "execution_count": null,
   "metadata": {},
   "outputs": [],
   "source": [
    "# Additional Analyses\n",
    "# --- Code Here ---"
   ]
  },
  {
   "cell_type": "markdown",
   "metadata": {},
   "source": [
    "# 2. Common Methods for Handling Missing Data\n",
    "\n",
    "## 2.1 Dropping Missing Values\n",
    "### 2.1.1 Listwise Deletion\n",
    "\n",
    "Listwise deletion removes an entire row from the dataset if it contains any missing values in any column.\n",
    "\n",
    "\n",
    "<font color='Green'><b>Example:</b></font> This example demonstrates how to remove rows with any missing values from the `climate_data` DataFrame using the `dropna()` method. The original DataFrame is displayed alongside the modified DataFrame after listwise deletion, allowing for a clear comparison of the data before and after the operation.\n",
    "\n",
    "<div class=\"alert alert-block alert-warning\">\n",
    "The <a href=\"https://pandas.pydata.org/docs/reference/api/pandas.DataFrame.dropna.html\" target=\"_blank\">`pandas.DataFrame.dropna()`</a> method in Pandas is used to remove missing values from a DataFrame. This method can drop rows or columns that contain `NaN` (Not a Number) values.\n",
    "</div>"
   ]
  },
  {
   "cell_type": "code",
   "execution_count": null,
   "metadata": {},
   "outputs": [],
   "source": [
    "# Remove rows with any missing values\n",
    "# listwise_deleted = --- Code Here ---\n",
    "\n",
    "print(\"Original Data:\")\n",
    "# display(climate_data)\n",
    "print(\"Data After Listwise Deletion:\")\n",
    "# display(listwise_deleted)"
   ]
  },
  {
   "cell_type": "markdown",
   "metadata": {},
   "source": [
    "### 2.1.2 Pairwise Deletion\n",
    "\n",
    "Pairwise deletion uses all available data for each analysis without removing entire records. It only excludes specific missing values when calculating statistics.\n",
    "\n",
    "\n",
    "<font color='Green'><b>Example:</b></font> This example demonstrates the calculation of mean temperatures using two different methods for handling missing values. First, pairwise deletion is used to compute the mean of `TMIN` and `TMAX`, ignoring NaN values with the `mean()` method. Next, listwise deletion is applied by removing any rows with missing values before calculating the means again. Both results are displayed for comparison.\n",
    "\n",
    "<div class=\"alert alert-block alert-warning\">\n",
    "The <a href=\"https://pandas.pydata.org/docs/reference/api/pandas.DataFrame.mean.html\" target=\"_blank\">`pandas.DataFrame.mean`</a> method in Pandas calculates the average of values in a Series or DataFrame while ignoring NaN values by default.\n",
    "</div>"
   ]
  },
  {
   "cell_type": "code",
   "execution_count": null,
   "metadata": {},
   "outputs": [],
   "source": [
    "# Using Pairwise Deletion\n",
    "# Here `skipna =True` excludes NaN values when computing the result.\n",
    "# mean_tmin_pairwise =  --- Code Here ---\n",
    "# mean_tmax_pairwise =  --- Code Here ---\n",
    "\n",
    "# Print results using f-strings\n",
    "# print(f\"Mean TMIN (using pairwise deletion): {mean_tmin_pairwise:.2f}\")\n",
    "# print(f\"Mean TMAX (using pairwise deletion): {mean_tmax_pairwise:.2f}\")\n",
    "\n",
    "# Using Listwise Deletion\n",
    "# listwise_deleted =  --- Code Here ---\n",
    "# mean_tmin_listwise =  --- Code Here ---\n",
    "# mean_tmax_listwise =  --- Code Here ---\n",
    "\n",
    "# Print results using f-strings\n",
    "# print(f\"\\nMean TMIN (after listwise deletion): {mean_tmin_listwise:.2f}\")\n",
    "# print(f\"Mean TMAX (after listwise deletion): {mean_tmax_listwise:.2f}\")"
   ]
  },
  {
   "cell_type": "markdown",
   "metadata": {},
   "source": [
    "## 2.2 Imputation Methods\n",
    "\n",
    "### 2.2.1 Constant Fill\n",
    "\n",
    "Replaces missing values with a specified constant value (e.g., zero, mean, median, or another meaningful number).\n",
    "\n",
    "<font color='Green'><b>Example:</b></font> This example demonstrates how to fill missing values in the `climate_data` DataFrame using constant fill methods. First, we calculate the mean for each feature and use it to replace NaN values with the `fillna()` method. The mean values are printed for reference. Next, we perform a similar operation using the median, filling missing values with the median for each feature. The modified DataFrames after both constant fill operations are displayed for comparison.\n",
    "\n",
    "<div class=\"alert alert-block alert-warning\">\n",
    "The <a href=\"https://pandas.pydata.org/docs/reference/api/pandas.DataFrame.fillna.html\" target=\"_blank\">`pandas.DataFrame.fillna()`</a> method in pandas is used to replace missing values (NaNs) in a Series or DataFrame with specified values.\n",
    "</div>"
   ]
  },
  {
   "cell_type": "code",
   "execution_count": null,
   "metadata": {},
   "outputs": [],
   "source": [
    "# Constant Fill with Mean\n",
    "climate_data_constant_mean = climate_data.copy()\n",
    "\n",
    "# Fill missing values with the mean for specified features.\n",
    "# for feat in climate_data.columns:\n",
    "    # mean_value =  --- Code Here ---\n",
    "    # print(f'Mean of {feat} = {mean_value:.2f}')\n",
    "    # climate_data_constant_mean[feat] =  --- Code Here ---\n",
    "\n",
    "print(\"Data After Constant Fill (Mean):\")\n",
    "# display(climate_data_constant_mean)\n",
    "\n",
    "# Constant Fill with Median\n",
    "# climate_data_constant_median = climate_data.copy()\n",
    "\n",
    "# Fill missing values with the median for specified features.\n",
    "# for feat in climate_data.columns:\n",
    "    # median_value =  --- Code Here ---\n",
    "    # print(f'Median of {feat} = {median_value:.2f}')\n",
    "    # climate_data_constant_median[feat] = --- Code Here ---\n",
    "\n",
    "print(\"Data After Constant Fill (Median):\")\n",
    "# display(climate_data_constant_median)"
   ]
  },
  {
   "cell_type": "markdown",
   "metadata": {},
   "source": [
    "### 2.2.2 Backward Fill (bfill)\n",
    "\n",
    "A method that fills missing values by using the next valid observation to fill gaps.\n",
    "  \n",
    "<font color='Green'><b>Example:</b></font> This example demonstrates how to fill missing values in the `climate_data` DataFrame using the backward fill method (`bfill`). This method propagates the next valid observation backward to replace NaN values. The modified DataFrame after applying backward fill is displayed for review.\n",
    "\n",
    "<div class=\"alert alert-block alert-warning\">\n",
    "The <a href=\"https://pandas.pydata.org/docs/reference/api/pandas.DataFrame.bfill.html\" target=\"_blank\">`pandas.DataFrame.bfill()`</a> method in pandas is used to fill missing values (NaNs) in a Series or DataFrame by using the next valid observation to fill the gap. This method can be particularly useful for time series data where you want to propagate the next available value backward to replace NaNs.\n",
    "</div>"
   ]
  },
  {
   "cell_type": "code",
   "execution_count": null,
   "metadata": {},
   "outputs": [],
   "source": [
    "# Apply backward fill\n",
    "# climate_data_bfill = --- Code Here ---\n",
    "\n",
    "print(\"Data After Backward Fill:\")\n",
    "# display(climate_data_bfill)"
   ]
  },
  {
   "cell_type": "markdown",
   "metadata": {},
   "source": [
    "### 2.2.3 Forward Fill (ffill)\n",
    "\n",
    "A method that fills missing values by propagating the last valid observation forward to fill gaps.\n",
    "\n",
    "<font color='Green'><b>Example:</b></font> This example demonstrates how to fill missing values in the `climate_data` DataFrame using the forward fill method (`ffill`). This method propagates the last valid observation forward to replace NaN values. The modified DataFrame after applying forward fill is displayed for review.\n",
    "\n",
    "<div class=\"alert alert-block alert-warning\">\n",
    "The <a href=\"https://pandas.pydata.org/docs/reference/api/pandas.DataFrame.ffill.html\" target=\"_blank\">`pandas.DataFrame.ffill()`</a> method in pandas is used to fill missing values (NaNs) in a Series or DataFrame by propagating the last valid observation forward. This method is particularly useful for time series data where you want to carry the previous value forward to replace NaNs.\n",
    "</div>"
   ]
  },
  {
   "cell_type": "code",
   "execution_count": null,
   "metadata": {
    "id": "IiJZwReBkbXh"
   },
   "outputs": [],
   "source": [
    "# Apply Forward Fill\n",
    "# climate_data_ffill = --- Code Here ---\n",
    "\n",
    "print(\"Data After Forward Fill:\")\n",
    "# display(climate_data_ffill)"
   ]
  },
  {
   "cell_type": "code",
   "execution_count": null,
   "metadata": {},
   "outputs": [],
   "source": [
    "# Additional Analyses"
   ]
  },
  {
   "cell_type": "markdown",
   "metadata": {},
   "source": [
    "### 2.2.4 Interpolation\n",
    "\n",
    "Linear interpolation estimates missing values in time series data by assuming a straight line between known data points.\n",
    "\n",
    "<font color='Green'><b>Example:</b></font> This example demonstrates how to fill missing values in the `climate_data` DataFrame using linear interpolation. The modified DataFrame after applying linear interpolation is displayed for review.\n",
    "\n",
    "<div class=\"alert alert-block alert-warning\">\n",
    "The <a href=\"https://pandas.pydata.org/docs/reference/api/pandas.DataFrame.interpolate.html\" target=\"_blank\">`pandas.DataFrame.interpolate()`</a> method in pandas is used to fill missing values (NaNs) in a Series or DataFrame by performing interpolation, which estimates values based on surrounding data points. This method can be configured with various interpolation techniques, such as linear, polynomial, or time-based methods, making it particularly useful for time series and numerical data where a smooth transition between values is desired.\n",
    "</div>"
   ]
  },
  {
   "cell_type": "code",
   "execution_count": null,
   "metadata": {},
   "outputs": [],
   "source": [
    "# Interpolate missing values\n",
    "# climate_data_interpolated = --- Code Here ---\n",
    "print(\"Data after interpolation:\")\n",
    "# display(climate_data_interpolated)"
   ]
  }
 ],
 "metadata": {
  "colab": {
   "provenance": []
  },
  "kernelspec": {
   "display_name": "base",
   "language": "python",
   "name": "python3"
  },
  "language_info": {
   "codemirror_mode": {
    "name": "ipython",
    "version": 3
   },
   "file_extension": ".py",
   "mimetype": "text/x-python",
   "name": "python",
   "nbconvert_exporter": "python",
   "pygments_lexer": "ipython3",
   "version": "3.12.3"
  }
 },
 "nbformat": 4,
 "nbformat_minor": 0
}
